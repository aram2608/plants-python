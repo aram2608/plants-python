{
 "cells": [
  {
   "cell_type": "markdown",
   "id": "ecfd1165-2328-44d3-82e8-f32b951a9c9c",
   "metadata": {},
   "source": [
    "# Python for Dummies Contd.\n",
    "In the previous notebook, we covered defining variables, the data types in Python, and lists.\n",
    "\n",
    "In this notebook we will cover how to work with lists more in depth and some fancy ways to work with variables."
   ]
  },
  {
   "cell_type": "code",
   "execution_count": 1,
   "id": "43e34e87-fc75-4b89-957e-f9950eb260e9",
   "metadata": {},
   "outputs": [
    {
     "name": "stdout",
     "output_type": "stream",
     "text": [
      "['Artemisia_absinthia', 'Zea_mays', 'Oryza_sativa']\n"
     ]
    }
   ],
   "source": [
    "# Defining our variables\n",
    "absinthe = \"Artemisia_absinthia\"\n",
    "whiskey = \"Zea_mays\"\n",
    "shochu = \"Oryza_sativa\"\n",
    "\n",
    "# Making our list\n",
    "plants = [absinthe, whiskey, shochu]\n",
    "\n",
    "# It is always useful to sanity check and make sure nothing is strange\n",
    "print(plants)"
   ]
  },
  {
   "cell_type": "code",
   "execution_count": 2,
   "id": "5b2f4695-78fb-4353-aab7-7e131f1f3472",
   "metadata": {},
   "outputs": [
    {
     "name": "stdout",
     "output_type": "stream",
     "text": [
      "Artemisia_absinthia\n",
      "Zea_mays\n",
      "Oryza_sativa\n"
     ]
    }
   ],
   "source": [
    "# Redefining new simpler variables\n",
    "x, y, z = plants\n",
    "print(x)\n",
    "print(y)\n",
    "print(z)"
   ]
  },
  {
   "cell_type": "markdown",
   "id": "c93003a9-ec52-41aa-962f-2700b9965f63",
   "metadata": {},
   "source": [
    "Pretty neat right? The way that bit of code works is that x is set to the first variable in the plants list, y the next, and z the next.\n",
    "\n",
    "This can be a useful way to simplify variable names or redefine new variables given previously used information."
   ]
  },
  {
   "cell_type": "code",
   "execution_count": 3,
   "id": "1599860f-8f47-4bae-9371-d821891914dd",
   "metadata": {},
   "outputs": [
    {
     "name": "stdout",
     "output_type": "stream",
     "text": [
      "3\n"
     ]
    }
   ],
   "source": [
    "x = y = z = 1\n",
    "total = x + y + z\n",
    "print(total)"
   ]
  },
  {
   "cell_type": "markdown",
   "id": "9db99fbb-7b62-4f7f-bc43-7239f83ef1c5",
   "metadata": {},
   "source": [
    "Also pretty nifty right? You can assign multiple variables to be equal all at once."
   ]
  },
  {
   "cell_type": "code",
   "execution_count": 4,
   "id": "049ae50c-fa5f-4893-a256-528a3bb89693",
   "metadata": {},
   "outputs": [
    {
     "name": "stdout",
     "output_type": "stream",
     "text": [
      "Artemisia_absinthia\n",
      "Zea_mays\n",
      "Oryza_sativa\n"
     ]
    }
   ],
   "source": [
    "for item in plants:\n",
    "    print(item)"
   ]
  },
  {
   "cell_type": "markdown",
   "id": "7f3eccdd-08ca-4318-81e4-56f5f1693e68",
   "metadata": {},
   "source": [
    "The previous code block introduces the mighty for loop. It states that for any item in our list of plants, do the following command, which in this case is a simple print function.\n",
    "\n",
    "But that is pretty boring so lets do something much more fun and complex."
   ]
  },
  {
   "cell_type": "code",
   "execution_count": 5,
   "id": "31849679-249f-43c3-8d52-abfb467e98e7",
   "metadata": {},
   "outputs": [
    {
     "name": "stdout",
     "output_type": "stream",
     "text": [
      "Agave_americana is not found.\n",
      "Agave_americana is not found.\n",
      "Agave_americana is not found.\n"
     ]
    }
   ],
   "source": [
    "pulque = \"Agave_americana\"\n",
    "\n",
    "for item in plants:\n",
    "    if item != pulque:\n",
    "        print(f\"{pulque} is not found.\")"
   ]
  },
  {
   "cell_type": "markdown",
   "id": "2b9103ee-1a18-4742-96ba-0231e62daf74",
   "metadata": {},
   "source": [
    "Pretty cool right? Let's say we wrote a script that appends species to a list given a certain criteria, lets say whether they are an angiosperm or some other special characteristic.\n",
    "\n",
    "What this for loop can do is act as an error checker to ensure a particular species of interest has made the list. BUT!\n",
    "\n",
    "Here is the catch..."
   ]
  },
  {
   "cell_type": "code",
   "execution_count": 6,
   "id": "dea9cbee-3e66-457f-be84-1f45cc837749",
   "metadata": {},
   "outputs": [
    {
     "name": "stdout",
     "output_type": "stream",
     "text": [
      "Agave_americana not found.\n"
     ]
    }
   ],
   "source": [
    "if pulque not in plants:\n",
    "    print(f\"{pulque} not found.\")"
   ]
  },
  {
   "cell_type": "markdown",
   "id": "eaebfdb3-673d-4b24-b257-fb938085dac7",
   "metadata": {},
   "source": [
    "...there is usually an easier and more stream lined way to do things. Such is the nature of programming, such is the nature of bioinformatics, so get used to it. "
   ]
  },
  {
   "cell_type": "code",
   "execution_count": 7,
   "id": "5ffa6b2a-22f4-41c0-84eb-0dd12b3fd772",
   "metadata": {},
   "outputs": [
    {
     "name": "stdout",
     "output_type": "stream",
     "text": [
      "Adding Bos_taurus...\n",
      "Done\n",
      "\n",
      "Adding Gallus_gallus_domestica...\n",
      "Done\n",
      "\n",
      "Adding Thunnus_orientalis...\n",
      "Done\n",
      "\n",
      "['Bos_taurus', 'Gallus_gallus_domestica', 'Thunnus_orientalis']\n"
     ]
    }
   ],
   "source": [
    "animals = []\n",
    "beef = \"Bos_taurus\"\n",
    "chicken = \"Gallus_gallus_domestica\"\n",
    "fish = \"Thunnus_orientalis\"\n",
    "\n",
    "if beef not in animals:\n",
    "    print(f\"Adding {beef}...\")\n",
    "    animals.append(beef)\n",
    "    print(\"Done\")\n",
    "\n",
    "if chicken not in animals:\n",
    "    print(f\"\\nAdding {chicken}...\")\n",
    "    animals.append(chicken)\n",
    "    print(\"Done\")\n",
    "\n",
    "if fish not in animals:\n",
    "    print(f\"\\nAdding {fish}...\")\n",
    "    animals.append(fish)\n",
    "    print(\"Done\")\n",
    "\n",
    "print(f\"\\n{animals}\")"
   ]
  },
  {
   "cell_type": "markdown",
   "id": "e6fc125c-6c0f-42df-ac55-eff2d5d1717e",
   "metadata": {},
   "source": [
    "The previous code chunk is quite a bit but also not a lot all at once.\n",
    "\n",
    "To break it down, we start off by making an empty list `animals`.\n",
    "\n",
    "We then define three types of variables.\n",
    "\n",
    "We then use some simple if statements with the `not in` operator. If you can read English, you should'nt need that explained.\n",
    "\n",
    "But just in case you can not read English, that means \"if this \"thing\" _is not_ in this thing, please do this.\"\n",
    "\n",
    "The if statements are checking to see if our defined variables exist in the list, if they don't, the variable is added with some confirmation messages since that is just best practice unless you are extremely confident in life.\n",
    "\n",
    "To add the variable, the `append()` function is used. This function appends things onto the end of the list. So if you care about the order of the list then you may need to use a different function."
   ]
  },
  {
   "cell_type": "code",
   "execution_count": 8,
   "id": "0644fe95-f6c8-4724-83ba-770e6609916a",
   "metadata": {},
   "outputs": [
    {
     "name": "stdout",
     "output_type": "stream",
     "text": [
      "[1, 4, 9, 16, 25, 36, 49, 64, 81, 100]\n"
     ]
    }
   ],
   "source": [
    "squares = [value**2 for value in range(1,11)]\n",
    "print(squares)"
   ]
  },
  {
   "cell_type": "markdown",
   "id": "75f63935-8f1f-46c9-a59a-26b4f58996c5",
   "metadata": {},
   "source": [
    "What did I just do you may ask. List comprehension I may respond.\n",
    "\n",
    "List comprehension is a crazy way to write one line Python code, or more affectionately known as one-liners. If you have ever seen a Perl one-liner, then you won't feel so bad about what I just wrote."
   ]
  },
  {
   "cell_type": "code",
   "execution_count": 9,
   "id": "ea3308c9-0e0b-4e3c-9cd3-5d4b61d74765",
   "metadata": {},
   "outputs": [
    {
     "name": "stdout",
     "output_type": "stream",
     "text": [
      "[1, 4, 9, 16, 25, 36, 49, 64, 81, 100]\n"
     ]
    }
   ],
   "source": [
    "squares2 = []\n",
    "for value in range(1,11):\n",
    "    square = value**2\n",
    "    squares2.append(square)\n",
    "print(squares2)"
   ]
  },
  {
   "cell_type": "markdown",
   "id": "47cbcb99-fe0c-49f6-9bf5-c8d40b77724d",
   "metadata": {},
   "source": [
    "Notice how the output is exactly the same? That is the beauty of list comprehension, to take a big chunk of code and make it completely unreadable to 99% of the population."
   ]
  },
  {
   "cell_type": "code",
   "execution_count": 10,
   "id": "4d0e7567-cff3-4aac-b305-35b1810a8eab",
   "metadata": {},
   "outputs": [
    {
     "name": "stdout",
     "output_type": "stream",
     "text": [
      "Adding Ovis_aries...\n",
      "Done\n",
      "['Ovis_aries', 'Bos_taurus', 'Gallus_gallus_domestica', 'Thunnus_orientalis']\n"
     ]
    }
   ],
   "source": [
    "# Going back to our list of animals\n",
    "mutton = \"Ovis_aries\"\n",
    "\n",
    "if mutton not in animals:\n",
    "    print(f\"Adding {mutton}...\")\n",
    "    animals.insert(0, mutton)\n",
    "    print(\"Done\")\n",
    "\n",
    "print(animals)"
   ]
  },
  {
   "cell_type": "markdown",
   "id": "43177484-ed1b-49f9-8bad-a40fc0c1065a",
   "metadata": {},
   "source": [
    "This is another way to add stuff to a list. Didn't think I would leave you high and dry right?\n",
    "\n",
    "The insert method let's you use an index so you can specify exactly where in the list you something."
   ]
  },
  {
   "cell_type": "code",
   "execution_count": 11,
   "id": "a6168a0c-d2af-42d8-ae0b-f6e4d5740230",
   "metadata": {},
   "outputs": [
    {
     "name": "stdout",
     "output_type": "stream",
     "text": [
      "Thunnus_orientalis\n"
     ]
    }
   ],
   "source": [
    "last = animals.pop()\n",
    "print(last)"
   ]
  },
  {
   "cell_type": "markdown",
   "id": "c8e23695-5531-4a59-957a-a2eddba29053",
   "metadata": {},
   "source": [
    "So what does pop do you may ask? It takes the last item from a list I may respond.\n",
    "\n",
    "So you notice how Thunnus orientalis is the _very_ last item on our previous print call?\n",
    "\n",
    "What pop does is it \"pops off\" the very last item from the list.\n",
    "\n",
    "This can be usefull if you want to separate stuff out starting from the end."
   ]
  },
  {
   "cell_type": "code",
   "execution_count": 12,
   "id": "9255cb4e-0d94-4f2f-bccc-8527a6c1786c",
   "metadata": {},
   "outputs": [
    {
     "name": "stdout",
     "output_type": "stream",
     "text": [
      "\n",
      "The following species has no genome: Artemisia_absinthia\n",
      "\n",
      "The following species has no genome: Zea_mays\n",
      "\n",
      "The following species has no genome: Oryza_sativa\n"
     ]
    }
   ],
   "source": [
    "organisms_of_interest = {\n",
    "    \"genome\" : animals,\n",
    "    \"no_genome\" : plants,\n",
    "}\n",
    "\n",
    "for k,i in organisms_of_interest.items():\n",
    "    if k == \"no_genome\":\n",
    "        for species in i:\n",
    "            print(f\"\\nThe following species has no genome: {species}\")"
   ]
  },
  {
   "cell_type": "markdown",
   "id": "278766a8-3348-44b7-9ebf-1835fd05b3a1",
   "metadata": {},
   "source": [
    "Now this is looking like a usefull script right? Not true probably, but useful nonetheless.\n",
    "\n",
    "This little snippet introduces a boat load of new stuff which will be covered in a separate notebook."
   ]
  }
 ],
 "metadata": {
  "kernelspec": {
   "display_name": "Python 3 (ipykernel)",
   "language": "python",
   "name": "python3"
  },
  "language_info": {
   "codemirror_mode": {
    "name": "ipython",
    "version": 3
   },
   "file_extension": ".py",
   "mimetype": "text/x-python",
   "name": "python",
   "nbconvert_exporter": "python",
   "pygments_lexer": "ipython3",
   "version": "3.13.1"
  }
 },
 "nbformat": 4,
 "nbformat_minor": 5
}
