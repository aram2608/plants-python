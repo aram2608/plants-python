{
 "cells": [
  {
   "cell_type": "markdown",
   "id": "9a9f729e-cf92-42f7-a58d-8f64e5c79e63",
   "metadata": {},
   "source": [
    "# The Basics\n",
    "Jupyter Notebooks have two types of cells, code cells and markdown cells.\n",
    "\n",
    "Markdown cells allow you to write like you would in any markdown file, these are useful for adding comments/annotations to explain the processes occuring in the notebook and code cells.\n",
    "\n",
    "Code cells store our Python code. They follow the same syntax as any standard .py file would.\n",
    "It is important to note however, that cells remember the order they were run in.\n",
    "\n",
    "So let's say for example, we create a variable called `genus` with an associated value `frankia`.\n",
    "\n",
    "If we run that cell first, in the [] next to the code cell we will see [1].\n",
    "\n",
    "Now, let's say we want to access that variable later on, the notebook remembers that `genus` corresponds with `frankia`.\n",
    "So print(`genus`) would give us the following....\n",
    "\n",
    "```\n",
    "frankia\n",
    "```\n",
    "However, the variable can be overwitten in future cells, lets say cell # [8].\n",
    "\n",
    "`genus` = `casuarina`\n",
    "\n",
    "If we go back and use any code cell between [1] and [8], it will now use `casuarina` instead of `frankia`.\n",
    "\n",
    "So it is important to always keep track of the order in which you run cells to make sure you are using the stored variables and code cells properly"
   ]
  },
  {
   "cell_type": "code",
   "execution_count": 1,
   "id": "3cdebe2f-6a22-47db-819d-a1ef93c928a0",
   "metadata": {},
   "outputs": [],
   "source": [
    "##########\n",
    "# Notebook Best Practice\n",
    "#########\n",
    "\n",
    "# I am not an authority on Jupyter Notebooks, however, it is useful to use the first code cell to load in any neccesary datasets and libraries/APIs\n",
    "\n",
    "### LOAD LIBRARIES ###\n",
    "import pandas as pd\n",
    "\n",
    "### IMPORT DATA ###\n",
    "df = pd.read_csv(\"iris.csv\")"
   ]
  },
  {
   "cell_type": "code",
   "execution_count": 2,
   "id": "51c0ecce-d4ed-4bd4-bf87-f4997701eded",
   "metadata": {},
   "outputs": [
    {
     "data": {
      "text/plain": [
       "150"
      ]
     },
     "execution_count": 2,
     "metadata": {},
     "output_type": "execute_result"
    }
   ],
   "source": [
    "#########\n",
    "# Workflow\n",
    "########\n",
    "\n",
    "# From here on out, you can start writing your Python script as you would normally\n",
    "len(df)"
   ]
  },
  {
   "cell_type": "code",
   "execution_count": 3,
   "id": "367f4d66-4728-4b94-b0f5-39562d906583",
   "metadata": {},
   "outputs": [],
   "source": [
    "genus = \"iris\""
   ]
  },
  {
   "cell_type": "code",
   "execution_count": 4,
   "id": "b0ea8d88-dbf2-4634-8aec-558687e7e09d",
   "metadata": {},
   "outputs": [
    {
     "data": {
      "text/plain": [
       "'iris'"
      ]
     },
     "execution_count": 4,
     "metadata": {},
     "output_type": "execute_result"
    }
   ],
   "source": [
    "genus"
   ]
  },
  {
   "cell_type": "code",
   "execution_count": 5,
   "id": "6b0343f2-b86e-4e50-9370-25771cb951a9",
   "metadata": {},
   "outputs": [
    {
     "data": {
      "text/plain": [
       "True"
      ]
     },
     "execution_count": 5,
     "metadata": {},
     "output_type": "execute_result"
    }
   ],
   "source": [
    "genus == 'iris'"
   ]
  },
  {
   "cell_type": "code",
   "execution_count": 6,
   "id": "597413a2-27d8-4239-ab69-25fccb7f6fb4",
   "metadata": {},
   "outputs": [
    {
     "data": {
      "text/plain": [
       "False"
      ]
     },
     "execution_count": 6,
     "metadata": {},
     "output_type": "execute_result"
    }
   ],
   "source": [
    "genus == 'frankia'"
   ]
  },
  {
   "cell_type": "code",
   "execution_count": 8,
   "id": "fdb55a32-5462-4385-b7da-cc3b5f6dbf12",
   "metadata": {},
   "outputs": [],
   "source": [
    "genus = 'frankia'"
   ]
  },
  {
   "cell_type": "code",
   "execution_count": 9,
   "id": "f32b04fd-f56e-4566-836d-7589f17367b2",
   "metadata": {},
   "outputs": [
    {
     "data": {
      "text/plain": [
       "False"
      ]
     },
     "execution_count": 9,
     "metadata": {},
     "output_type": "execute_result"
    }
   ],
   "source": [
    "genus == 'iris'"
   ]
  },
  {
   "cell_type": "code",
   "execution_count": 10,
   "id": "a6d238ac-a1ca-4212-8623-ae67183f3680",
   "metadata": {},
   "outputs": [
    {
     "data": {
      "text/plain": [
       "True"
      ]
     },
     "execution_count": 10,
     "metadata": {},
     "output_type": "execute_result"
    }
   ],
   "source": [
    "genus == 'frankia'"
   ]
  }
 ],
 "metadata": {
  "kernelspec": {
   "display_name": "Python 3 (ipykernel)",
   "language": "python",
   "name": "python3"
  },
  "language_info": {
   "codemirror_mode": {
    "name": "ipython",
    "version": 3
   },
   "file_extension": ".py",
   "mimetype": "text/x-python",
   "name": "python",
   "nbconvert_exporter": "python",
   "pygments_lexer": "ipython3",
   "version": "3.13.1"
  }
 },
 "nbformat": 4,
 "nbformat_minor": 5
}
