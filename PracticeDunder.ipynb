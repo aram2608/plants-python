{
 "cells": [
  {
   "cell_type": "markdown",
   "id": "02cb8a69-b347-4a58-b37f-d335deafdbd0",
   "metadata": {},
   "source": [
    "Practice with Functions and Dunder Methods"
   ]
  },
  {
   "cell_type": "code",
   "execution_count": 1,
   "id": "6e198ba1-d6da-4246-b992-1470d7657b59",
   "metadata": {},
   "outputs": [],
   "source": [
    "# Initialize a counter class\n",
    "class Counter:\n",
    "    def __init__(self): # the __init__ dunder method creates our object\n",
    "        self.value = 1\n",
    "\n",
    "    def count_up(self): # a function to count up, += is shorthand for incrementation of a value\n",
    "        self.value += 1\n",
    "\n",
    "    def count_down(self): # a function to count down, -= is shorthand for decreasing a value\n",
    "        self.value -= 1"
   ]
  },
  {
   "cell_type": "code",
   "execution_count": 2,
   "id": "dfd93ad6-af46-4fa2-abed-05a41fe967e1",
   "metadata": {},
   "outputs": [
    {
     "name": "stdout",
     "output_type": "stream",
     "text": [
      "<__main__.Counter object at 0x106150ec0> <__main__.Counter object at 0x105f72990>\n"
     ]
    }
   ],
   "source": [
    "count1 = Counter()\n",
    "count2 = Counter()\n",
    "\n",
    "count1.count_up()\n",
    "count2.count_down()\n",
    "\n",
    "print(count1, count2)"
   ]
  },
  {
   "cell_type": "code",
   "execution_count": 3,
   "id": "5a9025d4-646c-4031-9641-54ce065565e5",
   "metadata": {},
   "outputs": [],
   "source": [
    "class Counter:\n",
    "    def __init__(self): # the __init__ dunder method creates our object\n",
    "        self.value = 1\n",
    "\n",
    "    def count_up(self): # a function to count up, += is shorthand for incrementation of a value\n",
    "        self.value += 1\n",
    "\n",
    "    def count_down(self): # a function to count down, -= is shorthand for decreasing a value\n",
    "        self.value -= 1\n",
    "\n",
    "    def __str__(self): # this helps make the print call human readable, it uses the __str__ dunder method which is just str()\n",
    "        return f\"Count={self.value}\""
   ]
  },
  {
   "cell_type": "code",
   "execution_count": 4,
   "id": "7106aebf-0ac5-47ca-8509-6a698e99a47a",
   "metadata": {},
   "outputs": [
    {
     "name": "stdout",
     "output_type": "stream",
     "text": [
      "Count=2 Count=0\n"
     ]
    }
   ],
   "source": [
    "count1 = Counter()\n",
    "count2 = Counter()\n",
    "\n",
    "count1.count_up()\n",
    "count2.count_down()\n",
    "\n",
    "print(count1, count2)"
   ]
  },
  {
   "cell_type": "code",
   "execution_count": 5,
   "id": "62c4b721-bb27-4511-b0ef-00e13d24e12e",
   "metadata": {},
   "outputs": [],
   "source": [
    "class Counter:\n",
    "    def __init__(self): # the __init__ dunder method creates our object\n",
    "        self.value = 1\n",
    "\n",
    "    def count_up(self): # a function to count up, += is shorthand for incrementation of a value\n",
    "        self.value += 1\n",
    "\n",
    "    def count_down(self): # a function to count down, -= is shorthand for decreasing a value\n",
    "        self.value -= 1\n",
    "\n",
    "    def __str__(self): # this helps make the print call human readable, it uses the __str__ dunder method which is just str()\n",
    "        return f\"Count={self.value}\"\n",
    "\n",
    "    def __add__(self, other): # uses the __add__ method on the right side operand\n",
    "        return self.value + other.value"
   ]
  },
  {
   "cell_type": "code",
   "execution_count": 6,
   "id": "009c3c5b-4186-42e7-8056-5afe74127883",
   "metadata": {},
   "outputs": [
    {
     "name": "stdout",
     "output_type": "stream",
     "text": [
      "Count=2 Count=0\n",
      "2\n"
     ]
    }
   ],
   "source": [
    "count1 = Counter()\n",
    "count2 = Counter()\n",
    "\n",
    "count1.count_up()\n",
    "count2.count_down()\n",
    "\n",
    "print(count1, count2)\n",
    "print(count1 + count2)"
   ]
  },
  {
   "cell_type": "code",
   "execution_count": 7,
   "id": "1013d8ef-575c-42dd-9aa3-36129414aa47",
   "metadata": {},
   "outputs": [],
   "source": [
    "class Counter:\n",
    "    def __init__(self): # the __init__ dunder method creates our object\n",
    "        self.value = 1\n",
    "\n",
    "    def count_up(self): # a function to count up, += is shorthand for incrementation of a value\n",
    "        self.value += 1\n",
    "\n",
    "    def count_down(self): # a function to count down, -= is shorthand for decreasing a value\n",
    "        self.value -= 1\n",
    "\n",
    "    def __str__(self): # this helps make the print call human readable, it uses the __str__ dunder method which is just str()\n",
    "        return f\"Count={self.value}\"\n",
    "\n",
    "    def __add__(self, other): # uses the __add__ method on the right side operand\n",
    "        if isinstance(other, Counter): # makes the code safer, tests if other is a Counter type\n",
    "            return self.value + other.value\n",
    "        raise Exception(\"Invalid type\")"
   ]
  },
  {
   "cell_type": "code",
   "execution_count": 8,
   "id": "f48e9f39-32ff-47f1-8120-4345f0e5f25f",
   "metadata": {},
   "outputs": [
    {
     "name": "stdout",
     "output_type": "stream",
     "text": [
      "Count=2 Count=0\n",
      "2\n"
     ]
    },
    {
     "ename": "Exception",
     "evalue": "Invalid type",
     "output_type": "error",
     "traceback": [
      "\u001b[31m---------------------------------------------------------------------------\u001b[39m",
      "\u001b[31mException\u001b[39m                                 Traceback (most recent call last)",
      "\u001b[36mCell\u001b[39m\u001b[36m \u001b[39m\u001b[32mIn[8]\u001b[39m\u001b[32m, line 9\u001b[39m\n\u001b[32m      7\u001b[39m \u001b[38;5;28mprint\u001b[39m(count1, count2)\n\u001b[32m      8\u001b[39m \u001b[38;5;28mprint\u001b[39m(count1 + count2)\n\u001b[32m----> \u001b[39m\u001b[32m9\u001b[39m \u001b[38;5;28mprint\u001b[39m(\u001b[43mcount1\u001b[49m\u001b[43m \u001b[49m\u001b[43m+\u001b[49m\u001b[43m \u001b[49m\u001b[32;43m2\u001b[39;49m)\n",
      "\u001b[36mCell\u001b[39m\u001b[36m \u001b[39m\u001b[32mIn[7]\u001b[39m\u001b[32m, line 17\u001b[39m, in \u001b[36mCounter.__add__\u001b[39m\u001b[34m(self, other)\u001b[39m\n\u001b[32m     15\u001b[39m \u001b[38;5;28;01mif\u001b[39;00m \u001b[38;5;28misinstance\u001b[39m(other, Counter): \u001b[38;5;66;03m# makes the code safer, tests if other is a Counter type\u001b[39;00m\n\u001b[32m     16\u001b[39m     \u001b[38;5;28;01mreturn\u001b[39;00m \u001b[38;5;28mself\u001b[39m.value + other.value\n\u001b[32m---> \u001b[39m\u001b[32m17\u001b[39m \u001b[38;5;28;01mraise\u001b[39;00m \u001b[38;5;167;01mException\u001b[39;00m(\u001b[33m\"\u001b[39m\u001b[33mInvalid type\u001b[39m\u001b[33m\"\u001b[39m)\n",
      "\u001b[31mException\u001b[39m: Invalid type"
     ]
    }
   ],
   "source": [
    "count1 = Counter()\n",
    "count2 = Counter()\n",
    "\n",
    "count1.count_up()\n",
    "count2.count_down()\n",
    "\n",
    "print(count1, count2)\n",
    "print(count1 + count2)\n",
    "print(count1 + 2)"
   ]
  },
  {
   "cell_type": "markdown",
   "id": "2e0d9c6d-d9e7-4b2e-9aeb-194b09037c38",
   "metadata": {},
   "source": [
    "The following is a more complex example."
   ]
  },
  {
   "cell_type": "code",
   "execution_count": 9,
   "id": "b2fddd93-7992-45a2-ad92-ba91f61bbac3",
   "metadata": {},
   "outputs": [],
   "source": [
    "class Car:\n",
    "    def __init__(self, make, model, year):\n",
    "        self.make = make\n",
    "        self.model = model\n",
    "        self.year = year\n",
    "\n",
    "    # __str__ is pretty useful for human readable outputs\n",
    "    def __str__(self):\n",
    "        return f\"{self.make} {self.model} {self.year}\"\n",
    "\n",
    "    # __repr__ is a more detailed output\n",
    "    def __repr__(self):\n",
    "        return f\"Car(make='{self.make}', model='{self.model}', year={self.year})\""
   ]
  },
  {
   "cell_type": "code",
   "execution_count": 10,
   "id": "28c1b501-4a13-457f-a3e8-aea51ca3cb84",
   "metadata": {},
   "outputs": [],
   "source": [
    "# Creates an instance of the car class\n",
    "a_car = Car('Toyota', 'Corolla', 2021)"
   ]
  },
  {
   "cell_type": "code",
   "execution_count": 11,
   "id": "29134a19-6d12-4751-ba89-8f78bfb7f37a",
   "metadata": {},
   "outputs": [
    {
     "name": "stdout",
     "output_type": "stream",
     "text": [
      "Toyota Corolla 2021\n",
      "Car(make='Toyota', model='Corolla', year=2021)\n"
     ]
    }
   ],
   "source": [
    "print(str(a_car)) # Easy for anybody to read\n",
    "print(repr(a_car)) # Code nerds prefer this since it shows the Car class explicitly being used so it can help with trouble shooting"
   ]
  },
  {
   "cell_type": "code",
   "execution_count": 21,
   "id": "9cfca88a-56d0-4fd9-bbe2-192bc75e56ae",
   "metadata": {},
   "outputs": [],
   "source": [
    "class InventoryItem:\n",
    "    def __init__(self, name, quantity):\n",
    "        self.name = name\n",
    "        self.quantity = quantity\n",
    "\n",
    "    # makes nice print calls\n",
    "    def __repr__(self):\n",
    "        return f\"InventoryItem(name='{self.name}', quantity={self.quantity})\"\n",
    "\n",
    "    # Arithmetic operator\n",
    "    def __add__(self, other):\n",
    "        if isinstance(other, InventoryItem) and self.name == other.name:\n",
    "            return InventoryItem(self.name, self.quantity + other.quantity)\n",
    "        raise ValueError(\"Cannot add values of different types.\")\n",
    "\n",
    "    def __sub__(self, other):\n",
    "        if isinstance(other, InventoryItem) and self.name == other.name:\n",
    "            if self.quantity >= other.quantity:\n",
    "                return InventoryItem(self.name, self.quantity - other.quantity)\n",
    "            raise ValueError(\"Cannot subtract more than available quantity.\")\n",
    "        raise ValueError(\"Cannot subtract values of different types.\")\n",
    "\n",
    "    def __mul__(self, factor):\n",
    "        if isinstance(factor, (int, float)):\n",
    "            return InventoryItem(self.name, self.quantity * factor)\n",
    "        raise ValueError(\"Multiplication factor must be a number.\")\n",
    "\n",
    "    def __truediv__(self, factor):\n",
    "        if isinstance(factor, (int, float)) and factor != 0:\n",
    "            return InventoryItem(self.name, self.quantity / factor)\n",
    "        raise ValueError(\"Division factor must be a non-zero number.\")\n",
    "\n",
    "    # Comparison operators\n",
    "    def __eq__(self, other):\n",
    "        if isinstance(other, InventoryItem):\n",
    "            return self.name == other.name and self.quantity == other.quanity\n",
    "        return False\n",
    "\n",
    "    def __lt__(self, other):\n",
    "        if isinstance(other, InventoryItem) and self.name == other.name:\n",
    "            return self.quantity < other.quantity\n",
    "        raise ValueError(\"Cannot compare items of different types.\")\n",
    "\n",
    "    def __gt__(self, other):\n",
    "        if isinstance(other, InventoryItem) and self.name == other.name:\n",
    "            return self.quantity > other.quantity"
   ]
  },
  {
   "cell_type": "code",
   "execution_count": 22,
   "id": "16688e3d-131c-4f9b-bdc7-6ad405327da1",
   "metadata": {},
   "outputs": [],
   "source": [
    "# Intitalize our objects\n",
    "item1 = InventoryItem(\"Apple\", 60)\n",
    "item2 = InventoryItem(\"Banana\", 50)\n",
    "item3 = InventoryItem(\"Fish\", 40)"
   ]
  },
  {
   "cell_type": "code",
   "execution_count": 23,
   "id": "4e152ff2-8e59-4744-99c2-f145ea764ae2",
   "metadata": {},
   "outputs": [],
   "source": [
    "# Restocking\n",
    "restock1 = InventoryItem(\"Apple\", 40)"
   ]
  },
  {
   "cell_type": "code",
   "execution_count": 24,
   "id": "ea55d7e0-88c3-4846-b73d-8b54024cad92",
   "metadata": {},
   "outputs": [
    {
     "name": "stdout",
     "output_type": "stream",
     "text": [
      "InventoryItem(name='Apple', quantity=100)\n"
     ]
    }
   ],
   "source": [
    "print(item1 + restock1)"
   ]
  },
  {
   "cell_type": "code",
   "execution_count": 25,
   "id": "4bc27b4a-ada5-40b6-be22-38d34e306ef5",
   "metadata": {},
   "outputs": [],
   "source": [
    "# Bulk purchase\n",
    "purchase1 = InventoryItem(\"Apple\", 20)"
   ]
  },
  {
   "cell_type": "code",
   "execution_count": 26,
   "id": "83534f28-bcb9-4ae6-83f3-7252561dd826",
   "metadata": {},
   "outputs": [
    {
     "name": "stdout",
     "output_type": "stream",
     "text": [
      "InventoryItem(name='Apple', quantity=40)\n"
     ]
    }
   ],
   "source": [
    "print(item1 - purchase1)"
   ]
  },
  {
   "cell_type": "code",
   "execution_count": 27,
   "id": "4b6f39d9-3985-4905-bb04-8b278fa605aa",
   "metadata": {},
   "outputs": [
    {
     "name": "stdout",
     "output_type": "stream",
     "text": [
      "InventoryItem(name='Apple', quantity=100)\n"
     ]
    }
   ],
   "source": [
    "# Permanently changes the initialized item\n",
    "item1 += restock1\n",
    "print(item1)"
   ]
  },
  {
   "cell_type": "code",
   "execution_count": 28,
   "id": "9b649a2f-bb06-4ded-b562-d6d0824e8009",
   "metadata": {},
   "outputs": [],
   "source": [
    "restock2 = InventoryItem(\"Banana\", 30)"
   ]
  },
  {
   "cell_type": "code",
   "execution_count": 29,
   "id": "515c20b2-1266-4617-9dda-ec11a866e2d8",
   "metadata": {},
   "outputs": [
    {
     "ename": "ValueError",
     "evalue": "Cannot add values of different types.",
     "output_type": "error",
     "traceback": [
      "\u001b[31m---------------------------------------------------------------------------\u001b[39m",
      "\u001b[31mValueError\u001b[39m                                Traceback (most recent call last)",
      "\u001b[36mCell\u001b[39m\u001b[36m \u001b[39m\u001b[32mIn[29]\u001b[39m\u001b[32m, line 1\u001b[39m\n\u001b[32m----> \u001b[39m\u001b[32m1\u001b[39m \u001b[38;5;28mprint\u001b[39m(\u001b[43mitem1\u001b[49m\u001b[43m \u001b[49m\u001b[43m+\u001b[49m\u001b[43m \u001b[49m\u001b[43mrestock2\u001b[49m)\n",
      "\u001b[36mCell\u001b[39m\u001b[36m \u001b[39m\u001b[32mIn[21]\u001b[39m\u001b[32m, line 14\u001b[39m, in \u001b[36mInventoryItem.__add__\u001b[39m\u001b[34m(self, other)\u001b[39m\n\u001b[32m     12\u001b[39m \u001b[38;5;28;01mif\u001b[39;00m \u001b[38;5;28misinstance\u001b[39m(other, InventoryItem) \u001b[38;5;129;01mand\u001b[39;00m \u001b[38;5;28mself\u001b[39m.name == other.name:\n\u001b[32m     13\u001b[39m     \u001b[38;5;28;01mreturn\u001b[39;00m InventoryItem(\u001b[38;5;28mself\u001b[39m.name, \u001b[38;5;28mself\u001b[39m.quantity + other.quantity)\n\u001b[32m---> \u001b[39m\u001b[32m14\u001b[39m \u001b[38;5;28;01mraise\u001b[39;00m \u001b[38;5;167;01mValueError\u001b[39;00m(\u001b[33m\"\u001b[39m\u001b[33mCannot add values of different types.\u001b[39m\u001b[33m\"\u001b[39m)\n",
      "\u001b[31mValueError\u001b[39m: Cannot add values of different types."
     ]
    }
   ],
   "source": [
    "print(item1 + restock2)"
   ]
  },
  {
   "cell_type": "code",
   "execution_count": 30,
   "id": "5699541d-e8db-48dd-b2ef-c1e5b8b09b4d",
   "metadata": {},
   "outputs": [
    {
     "name": "stdout",
     "output_type": "stream",
     "text": [
      "InventoryItem(name='Banana', quantity=80)\n"
     ]
    }
   ],
   "source": [
    "print(item2 + restock2)"
   ]
  }
 ],
 "metadata": {
  "kernelspec": {
   "display_name": "Python 3 (ipykernel)",
   "language": "python",
   "name": "python3"
  },
  "language_info": {
   "codemirror_mode": {
    "name": "ipython",
    "version": 3
   },
   "file_extension": ".py",
   "mimetype": "text/x-python",
   "name": "python",
   "nbconvert_exporter": "python",
   "pygments_lexer": "ipython3",
   "version": "3.13.1"
  }
 },
 "nbformat": 4,
 "nbformat_minor": 5
}
