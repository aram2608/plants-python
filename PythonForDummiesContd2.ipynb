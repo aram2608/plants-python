{
 "cells": [
  {
   "cell_type": "markdown",
   "id": "e3741881-3ead-404a-b60b-98c6c14d4ccb",
   "metadata": {},
   "source": [
    "# Python for Dummies Contd2\n",
    "Previously we briefly expanded our understanding of variables and introduced working with lists.\n",
    "\n",
    "We also introduced some useful methods like the if statement and for loop.\n",
    "\n",
    "In this notebook we will continue to expand on these topics."
   ]
  },
  {
   "cell_type": "code",
   "execution_count": null,
   "id": "2fe0d2a3-2df9-4226-88ac-5df49445d4c7",
   "metadata": {},
   "outputs": [],
   "source": [
    "# Defining our variables\n",
    "absinthe = \"Artemisia_absinthia\"\n",
    "whiskey = \"Zea_mays\"\n",
    "shochu = \"Oryza_sativa\"\n",
    "\n",
    "# Making our list\n",
    "plants = [absinthe, whiskey, shochu]\n",
    "\n",
    "# Making a dynamic list\n",
    "animals = []\n",
    "beef = \"Bos_taurus\"\n",
    "chicken = \"Gallus_gallus_domestica\"\n",
    "fish = \"Thunnus_orientalis\"\n",
    "\n",
    "if beef not in animals:\n",
    "    print(f\"Adding {beef}...\")\n",
    "    animals.append(beef)\n",
    "    print(\"Done\")\n",
    "\n",
    "if chicken not in animals:\n",
    "    print(f\"\\nAdding {chicken}...\")\n",
    "    animals.append(chicken)\n",
    "    print(\"Done\")\n",
    "\n",
    "if fish not in animals:\n",
    "    print(f\"\\nAdding {fish}...\")\n",
    "    animals.append(fish)\n",
    "    print(\"Done\")\n",
    "\n",
    "print(f\"\\n{animals}\")"
   ]
  },
  {
   "cell_type": "code",
   "execution_count": null,
   "id": "46033322-fdc2-4b3c-bf83-fc0a0cf25943",
   "metadata": {},
   "outputs": [],
   "source": [
    "organisms_of_interest = {\n",
    "    \"genome\" : animals,\n",
    "    \"no_genome\" : plants,\n",
    "}\n",
    "\n",
    "for k,i in organisms_of_interest.items():\n",
    "    if k == \"no_genome\":\n",
    "        for species in i:\n",
    "            print(f\"\\nThe following species has no genome: {species}\")"
   ]
  },
  {
   "cell_type": "markdown",
   "id": "b55a51cb-de89-49df-aaad-7e3b6b69577a",
   "metadata": {},
   "source": [
    "Alright so let us unpack the previous code cells.\n",
    "\n",
    "The first one initalizes the information we are working with, remember the notebook best practices?\n",
    "\n",
    "The lists of interest are defined in two separate ways, one is static. Meaning we hard code the values into the list. And the second one is dynamic, we start with an empty list and add values as we see fit.\n",
    "\n",
    "Now, just because a list starts statically does not mean it can't change, by default any list in Python can change throughout the life of a program unlike a tuple, more on those later.\n",
    "\n",
    "Now the second code cell introduces a second Pythonic data structure known as a dictionary. The syntax for defining a dictionary is the following...\n",
    "\n",
    "```\n",
    "dictionary = {}\n",
    "list = []\n",
    "tuple = ()\n",
    "```\n",
    "\n",
    "Pretty easy right? Dictionaries use curly brackets {}, lists use square brackets [], tuples use parenthesis ().\n",
    "\n",
    "Easy peasy.\n",
    "\n",
    "```\n",
    "dictionary = {\n",
    "    \"key\" : \"value\"\n",
    "}\n",
    "```\n",
    "\n",
    "Now, the items in a dictionary come in pairs. Key-value pairs more specifically. The first item is the key, the second item is the value."
   ]
  },
  {
   "cell_type": "code",
   "execution_count": null,
   "id": "970455ba-4117-4aec-80cf-661f80c18d2e",
   "metadata": {},
   "outputs": [],
   "source": [
    "organisms_of_interest = {\n",
    "    \"genome\" : animals,\n",
    "    \"no_genome\" : plants,\n",
    "}\n",
    "\n",
    "for k,i in organisms_of_interest.items(): # note this here .items()\n",
    "    if k == \"no_genome\":\n",
    "        for species in i:\n",
    "            print(f\"\\nThe following species has no genome: {species}\")\n",
    "\n",
    "# Notice, this is best practice as well\n",
    "# Make a nice and simple dictionary that is easy to type\n",
    "# This makes any boilerplate down the line much easier to complete\n",
    "# It is also best practice to make an explicit comment so that you know what OAI means\n",
    "\n",
    "# Initalizing dictionary for organisms of interest (OAI)\n",
    "OAI = {\n",
    "    \"Needle_Lab\" : animals,\n",
    "    \"Obrien_Lab\" : plants,\n",
    "}\n",
    "\n",
    "for k in OAI.keys():\n",
    "    if k == \"Needle_Lab\":\n",
    "        print(\"\\nThe needle lab is interested in animals\")"
   ]
  },
  {
   "cell_type": "markdown",
   "id": "3c80031e-1efe-4d3f-9644-2735db69d6c0",
   "metadata": {},
   "source": [
    "So what exactly changed between the two for loops? The function I used changed.\n",
    "\n",
    "In the first for loop I used the `.items()` method, this one uses the key-value pairs as an _item_, ie both are included.\n",
    "\n",
    "Conversely the second one uses the `.keys()` function which only used the keys.\n",
    "\n",
    "Can you guess what the last method you can use is?"
   ]
  },
  {
   "cell_type": "code",
   "execution_count": null,
   "id": "117430e5-f2b6-400f-b6d9-127913e5a8d1",
   "metadata": {},
   "outputs": [],
   "source": [
    "for v in OAI.values():\n",
    "    if v == animals:\n",
    "        for species in animals:\n",
    "            print(f\"{species}\") # this can also be written as, print(species), potato potato honestly"
   ]
  },
  {
   "cell_type": "markdown",
   "id": "1c790410-d4e9-46ce-8243-6fd8b236f280",
   "metadata": {},
   "source": [
    "Yup, `.values()` is the last one which just uses values.\n",
    "\n",
    "So I have not explained it clearly or really stated much about it, but lists can be used as either the key or the value in a dictionary, and not only that, but other dictionaries can even be used as well.\n",
    "\n",
    "This is a behavior known as nesting in Python.\n",
    "\n",
    "Now just because you can do it, does not mean you should. Nested dictionaries and list should be used sparingly as there is almost always a way to make things much simpler.\n",
    "\n",
    "With that said, this behavior can be incredibly useful."
   ]
  },
  {
   "cell_type": "code",
   "execution_count": 5,
   "id": "cdd36adb-ff79-4bed-9954-a86e49320ce6",
   "metadata": {},
   "outputs": [
    {
     "name": "stdout",
     "output_type": "stream",
     "text": [
      "Fisher has a genome at NCBI: Pecania_pennanti\n",
      "Deer has a genome at NCBI: Odocoileus_virginianus\n",
      "Otter has a genome at NCBI: Lontra_canadensis\n",
      "The Pecania_pennanti project is funded by Nhf&Wl.\n",
      "The Odocoileus_virginianus project is funded by Massf&G.\n",
      "The Lontra_canadensis project is not funded.\n",
      "Zeb is a 2nd year.\n",
      "Samantha is a 1st year.\n",
      "Kellyn is a technician.\n"
     ]
    }
   ],
   "source": [
    "# Organisms studied in the lab\n",
    "fisher = \"Pecania_pennanti\"\n",
    "deer = \"Odocoileus_virginianus\"\n",
    "otter = \"Lontra_canadensis\"\n",
    "\n",
    "# Initalizes a dictionary for the organisms in the Needle Lab\n",
    "Needle_lab = {\n",
    "    \"project_genomes\" : {\n",
    "        \"fisher\" : fisher,\n",
    "        \"deer\" : deer,\n",
    "        \"otter\" : otter,\n",
    "    },\n",
    "    \"project_funding\" : {\n",
    "        \"nhf&wl\" : fisher,\n",
    "        \"massf&g\" : deer,\n",
    "        \"none\" : otter,\n",
    "    },\n",
    "    \"members\" : {\n",
    "        \"2nd year\" : \"zeb\",\n",
    "        \"1st year\" : \"samantha\",\n",
    "        \"technician\" : \"kellyn\",\n",
    "    },\n",
    "}\n",
    "\n",
    "\n",
    "for k,v in Needle_lab.items():\n",
    "    if k == \"project_genomes\":\n",
    "        for common, scientific in v.items():\n",
    "            print(f\"{common.title()} has a genome at NCBI: {scientific}\")\n",
    "    elif k == \"project_funding\":\n",
    "        for funding, project in v.items():\n",
    "            if funding != \"none\":\n",
    "                print(f\"The {project} project is funded by {funding.title()}.\")\n",
    "            elif funding == \"none\":\n",
    "                print(f\"The {project} project is not funded.\")\n",
    "    elif k == \"members\":\n",
    "        for status, member in v.items():\n",
    "            print(f\"{member.title()} is a {status}.\")\n",
    "        "
   ]
  },
  {
   "cell_type": "markdown",
   "id": "a35719b8-82fb-45e3-85cb-75398c582020",
   "metadata": {},
   "source": [
    "This little snippet took much longer to write than I would like to admit if I am being sincere.\n",
    "\n",
    "But let's walk through the past 30 minutes of my productive procrastination. \n",
    "\n",
    "This little snippet is for an imaginary application that tracks organisms of interest, their genome and funding status as well as lab members.\n",
    "\n",
    "The for loop uses `k,v` to denote that key,value paires will be evaluated with the `.items()` function.\n",
    "\n",
    "The second if statement is checking to see if the `k` (ie key) corresponds to project_funding. Since there is a key that does correspond to funding, the for loop is then evaluated. Now here's the kicker, that little if statement has no sort of error checking or anything, if there was not a key value with project_funding it would have failed silently and we would be none the wiser."
   ]
  }
 ],
 "metadata": {
  "kernelspec": {
   "display_name": "Python 3 (ipykernel)",
   "language": "python",
   "name": "python3"
  },
  "language_info": {
   "codemirror_mode": {
    "name": "ipython",
    "version": 3
   },
   "file_extension": ".py",
   "mimetype": "text/x-python",
   "name": "python",
   "nbconvert_exporter": "python",
   "pygments_lexer": "ipython3",
   "version": "3.13.1"
  }
 },
 "nbformat": 4,
 "nbformat_minor": 5
}
