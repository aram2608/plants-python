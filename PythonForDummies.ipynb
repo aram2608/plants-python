{
 "cells": [
  {
   "cell_type": "markdown",
   "id": "367f3922-0d03-4aba-bd93-13b2fe6b4e30",
   "metadata": {},
   "source": [
    "# Python For Dummies\n",
    "The best way to learn Python is to read and write Python.\n",
    "\n",
    "With that said, you do not learn to read and write by just bashing your head against a book and writing incoherent scribbles right?\n",
    "\n",
    "You first need to learn the grammar, ie the rules, of the language.\n",
    "\n",
    "This notebook will cover the \"grammar\" used in Python, or more accurately, the syntax and basic function."
   ]
  },
  {
   "cell_type": "code",
   "execution_count": 1,
   "id": "779793d3-fc81-4605-9c0c-17df61df0a8b",
   "metadata": {},
   "outputs": [
    {
     "name": "stdout",
     "output_type": "stream",
     "text": [
      "Artemisia\n",
      "_absinthia\n"
     ]
    }
   ],
   "source": [
    "# Defining variables\n",
    "genus = \"Artemisia\"\n",
    "species = \"_absinthia\"\n",
    "print(genus)\n",
    "print(species)"
   ]
  },
  {
   "cell_type": "code",
   "execution_count": 2,
   "id": "ad16ea69-a130-4585-881e-3e51560450eb",
   "metadata": {},
   "outputs": [
    {
     "name": "stdout",
     "output_type": "stream",
     "text": [
      "Artemisia_absinthia\n"
     ]
    }
   ],
   "source": [
    "# Arithmetic with variables\n",
    "absinthe = genus + species\n",
    "print(absinthe)"
   ]
  },
  {
   "cell_type": "markdown",
   "id": "4b4ca5c4-480e-44d8-ac05-40966caa4466",
   "metadata": {},
   "source": [
    "Yup that is right, you can add variables together to get entirely new variables. In this case we added two data types known as strings. More on those later."
   ]
  },
  {
   "cell_type": "code",
   "execution_count": 3,
   "id": "de479e2c-1065-49af-8653-d18aa0a0e56c",
   "metadata": {},
   "outputs": [
    {
     "name": "stdout",
     "output_type": "stream",
     "text": [
      "r :This is the second value of our variable\n",
      "A :This is the first value of our variable\n",
      "Artem :This is the first value through the fifth value in our variable\n",
      "Artemisia :This is a little strange right?\n"
     ]
    }
   ],
   "source": [
    "# Indexing the values of a variable\n",
    "print(genus[1], \":This is the second value of our variable\")\n",
    "print(genus[0], \":This is the first value of our variable\")\n",
    "print(genus[0:5], \":This is the first value through the fifth value in our variable\")\n",
    "print(genus[0:9], \":This is a little strange right?\")"
   ]
  },
  {
   "cell_type": "markdown",
   "id": "353dd6c7-c225-4c59-a3b6-fb616fa62f54",
   "metadata": {},
   "source": [
    "We can index the values of a variable using the variables name and brackets []. Notice how the index starts at 0, this is a remnant from C that has remained constant through a majority of programming languages. Don't question it, that's just the way it works so don't bother thinking about it for too long.\n",
    "\n",
    "We can also use a semicolon (:) to denote a range of values, so 1:5, translates to 1,2,3,4,5. Or in English, \"use index 1 through 5\".\n",
    "\n",
    "Another thing to note is that indexing the final value in Python is kinda weird.\n",
    "\n",
    "You probably did not notice however, so I will spell it out nice and simple.\n",
    "\n",
    "Given the syntax I just taught you, 0:9 means, use indexes 0 through 9 right? Meaning 0,1,2,3,4,5,6,7,8,9.\n",
    "\n",
    "Well let us see what this looks like in some Python code."
   ]
  },
  {
   "cell_type": "code",
   "execution_count": 4,
   "id": "f751f5a4-6ce7-4a9c-8a34-4be89f07dc31",
   "metadata": {},
   "outputs": [
    {
     "name": "stdout",
     "output_type": "stream",
     "text": [
      "10\n",
      "9\n"
     ]
    },
    {
     "data": {
      "text/plain": [
       "False"
      ]
     },
     "execution_count": 4,
     "metadata": {},
     "output_type": "execute_result"
    }
   ],
   "source": [
    "indexes = [0,1,2,3,4,5,6,7,8,9]\n",
    "print(len(indexes))\n",
    "print(len(genus))\n",
    "len(indexes) == len(genus)"
   ]
  },
  {
   "cell_type": "markdown",
   "id": "cec1d25f-5108-43dd-b81c-bbc14f4b8bf3",
   "metadata": {},
   "source": [
    "The len function is just a way to return the length of a list or variable. Now we should be able to see the weirdness very vividly.\n",
    "\n",
    "0 through 9 is a total of 10 numbers or indexes, yet our variable `genus` is only 9 characters long. So what gives?\n",
    "\n",
    "Let's try to print what indexing 0:8 looks like."
   ]
  },
  {
   "cell_type": "code",
   "execution_count": 5,
   "id": "4fd14567-235f-40cc-9a4e-8cd12bd2f7bf",
   "metadata": {},
   "outputs": [
    {
     "name": "stdout",
     "output_type": "stream",
     "text": [
      "Artemisi\n"
     ]
    }
   ],
   "source": [
    "print(genus[0:8])"
   ]
  },
  {
   "cell_type": "markdown",
   "id": "18ebfdbb-5a45-47c2-bcd1-0437be3073b9",
   "metadata": {},
   "source": [
    "A letter short right?\n",
    "\n",
    "In Python, the last index is never included in the final output, so moral of the story is, if you have any variable/list with a length of `n`. If you want to include the entire variable/list when indexing, make sure to use `n+1`. Another cheeky trick you can use is the following..."
   ]
  },
  {
   "cell_type": "code",
   "execution_count": 6,
   "id": "f434f51d-d77e-4dae-a7b2-c40f627c194f",
   "metadata": {},
   "outputs": [
    {
     "name": "stdout",
     "output_type": "stream",
     "text": [
      "a\n"
     ]
    }
   ],
   "source": [
    "print(genus[-1])"
   ]
  },
  {
   "cell_type": "markdown",
   "id": "58491627-fdb7-49ce-a540-075af0ff3436",
   "metadata": {},
   "source": [
    "...and it will return the very last item in the list/variable."
   ]
  },
  {
   "cell_type": "code",
   "execution_count": 7,
   "id": "fe803c3e-c52b-4b92-9e0d-0a596d5a3d7e",
   "metadata": {},
   "outputs": [
    {
     "name": "stdout",
     "output_type": "stream",
     "text": [
      "Zea_mays Oryza_sativa Artemisia_absinthia\n"
     ]
    }
   ],
   "source": [
    "# We can even print a bunch of things all at once\n",
    "whiskey = \"Zea_mays\"\n",
    "shochu = \"Oryza_sativa\"\n",
    "print(whiskey, shochu, absinthe) # Don't forget the commas!"
   ]
  },
  {
   "cell_type": "markdown",
   "id": "9beb11a5-b7a4-45c7-82da-99112f0eada2",
   "metadata": {},
   "source": [
    "For the more advanced Python user, you can even use formatted strings to include variables."
   ]
  },
  {
   "cell_type": "code",
   "execution_count": 8,
   "id": "536edcac-4b16-48ea-8f7d-414c01703fdb",
   "metadata": {},
   "outputs": [
    {
     "name": "stdout",
     "output_type": "stream",
     "text": [
      "Artemisia_absinthia is used to make absinthe,\n",
      "Oryza_sativa is used to make shochu,\n",
      "Zea_mays is used to make whiskey.\n"
     ]
    }
   ],
   "source": [
    "prompt = f\"{absinthe} is used to make absinthe,\"\n",
    "prompt += f\"\\n{shochu} is used to make shochu,\"\n",
    "prompt += f\"\\n{whiskey} is used to make whiskey.\"\n",
    "\n",
    "print(prompt)"
   ]
  },
  {
   "cell_type": "markdown",
   "id": "475b9de3-a18e-4de1-ac4e-b377c84964ac",
   "metadata": {},
   "source": [
    "Now that is some big boy Python code. But not really honestly.\n",
    "\n",
    "To break it down, this fella += is shorthand for + and = at the same time!\n",
    "\n",
    "So basically it is saying `prompt = \"some awesome text,\" + prompt = \"some more awesome text\"`.\n",
    "print(prompt)\n",
    "```\n",
    "some awesome text, some more awesome text\n",
    "```\n",
    "\n",
    "The \\n in the formatted string is a special character. Special characters have a number of functions in Python.\n",
    "\n",
    "In this case all \\n does is ask for a new line `prompt = \"some awesome text,\" + prompt = \"\\nsome more awesome text\"`\n",
    "\n",
    "print(prompt)\n",
    "```\n",
    "some awesome text,\n",
    "some more awesome text\n",
    "```\n",
    "\n",
    "The following code block will cover some more of the usefull special characters since they can be kinda handy."
   ]
  },
  {
   "cell_type": "code",
   "execution_count": 9,
   "id": "409a0350-66e4-4b12-8b5b-da3ab850cc6e",
   "metadata": {},
   "outputs": [
    {
     "name": "stdout",
     "output_type": "stream",
     "text": [
      "\\\n",
      "'\n",
      "\"\n",
      "Hello\n",
      "World\n",
      "Hello\tWorld\n",
      "World\n",
      "HelloWorld\n",
      "Hello\f",
      "World\n",
      "Hello\n",
      "Hello\n"
     ]
    }
   ],
   "source": [
    "# Escape Expression\n",
    "# \\\\\n",
    "# Backslash\n",
    "print(\"\\\\\")\n",
    "\n",
    "# \\'\n",
    "# Single quote\n",
    "print(\"\\'\")\n",
    "\n",
    "# \\\"\n",
    "# Double quote\n",
    "print(\"\\\"\")\n",
    "\n",
    "# \\n\n",
    "# Newline\n",
    "print(\"Hello\\nWorld\")\n",
    "\n",
    "# \\t\n",
    "# Tab\n",
    "print(\"Hello\\tWorld\")\n",
    "\n",
    "# \\r\n",
    "# Carriage return\n",
    "print(\"Hello\\rWorld\")\n",
    "\n",
    "# \\b\n",
    "# Backspace\n",
    "print(\"Hello \\bWorld\")\n",
    "\n",
    "# \\f\n",
    "# Form feed\n",
    "print(\"Hello\\fWorld\")\n",
    "\n",
    "# \\ooo\n",
    "# Octal value\n",
    "print(\"\\110\\145\\154\\154\\157\")\n",
    "\n",
    "# \\xhh\n",
    "# Hexadecimal value\n",
    "print(\"\\x48\\x65\\x6c\\x6c\\x6f\")"
   ]
  },
  {
   "cell_type": "markdown",
   "id": "f5f2571e-b36e-4489-8816-1cf8f8193467",
   "metadata": {},
   "source": [
    "# Working with Lists\n",
    "Now that you are hopefully comfortable working with variables, we can start plugging away at lists!\n",
    "\n",
    "In a nutshell, these are a data type used to store values. The value can be an integer, a float, strings, variables and even other lists and dictionaries!"
   ]
  },
  {
   "cell_type": "code",
   "execution_count": 10,
   "id": "20d0a9eb-be3e-4cf6-b2f2-13090501d09a",
   "metadata": {},
   "outputs": [
    {
     "name": "stdout",
     "output_type": "stream",
     "text": [
      "['Oryza_sativa', 'Zea_mays', 'Artemisia_absinthia']\n"
     ]
    }
   ],
   "source": [
    "plants = [shochu, whiskey, absinthe]\n",
    "print(plants)"
   ]
  },
  {
   "cell_type": "code",
   "execution_count": 11,
   "id": "6bdad501-7dab-4d2e-bd39-93177ea866b4",
   "metadata": {},
   "outputs": [
    {
     "name": "stdout",
     "output_type": "stream",
     "text": [
      "Oryza_sativa\n",
      "['Oryza_sativa', 'Zea_mays']\n",
      "['Oryza_sativa', 'Zea_mays', 'Artemisia_absinthia']\n"
     ]
    }
   ],
   "source": [
    "print(plants[0])\n",
    "print(plants[0:2])\n",
    "print(plants[0:3])"
   ]
  },
  {
   "cell_type": "markdown",
   "id": "2426291c-8469-416a-a42e-cec25c852e51",
   "metadata": {},
   "source": [
    "See that? We can index lists as well. I sorta alluded to it earlier but pretty neat right?\n",
    "\n",
    "Same weird index rules apply here so keep in mind."
   ]
  },
  {
   "cell_type": "code",
   "execution_count": 12,
   "id": "27b36d42-e090-494e-a364-03391c545088",
   "metadata": {},
   "outputs": [
    {
     "name": "stdout",
     "output_type": "stream",
     "text": [
      "<class 'list'>\n",
      "<class 'int'>\n",
      "<class 'str'>\n"
     ]
    }
   ],
   "source": [
    "print(type(plants))\n",
    "print(type(1))\n",
    "print(type(genus))"
   ]
  },
  {
   "cell_type": "markdown",
   "id": "083b8dc7-bdee-47a1-b444-bab857f8a52d",
   "metadata": {},
   "source": [
    "The type method is pretty useful for checking the type of a variable/value we have."
   ]
  },
  {
   "cell_type": "code",
   "execution_count": 13,
   "id": "9a3856eb-1bad-4178-bf95-10be81665081",
   "metadata": {},
   "outputs": [
    {
     "name": "stdout",
     "output_type": "stream",
     "text": [
      "<class 'int'>\n",
      "<class 'str'>\n"
     ]
    }
   ],
   "source": [
    "my_favorite_number = 1\n",
    "print(type(my_favorite_number))\n",
    "my_favorite_number = str(my_favorite_number)\n",
    "print(type(my_favorite_number))"
   ]
  },
  {
   "cell_type": "markdown",
   "id": "54d3f40d-75dd-4d22-974b-52882e44a5ad",
   "metadata": {},
   "source": [
    "What kinda witch craft did I perform you may asking. How did I change the type of the variable you may be wondering.\n",
    "\n",
    "This is a usefull implementation in Python called type casting, where you can use the built in type methods to change a variables type.\n",
    "\n",
    "You can use int(), str(), and all the other data type functions to do the same thing. \n",
    "\n",
    "But what are all the Python data types?\n",
    "\n",
    "- `str` = text type\n",
    "- `int, float, complex` = numeric types\n",
    "- `list, tuple, range` = sequence types\n",
    "- `dict` = mapping type\n",
    "- `set, frozenset` = set types\n",
    "- `bool` = Boolean types\n",
    "- `bytes, bytearray, memoryview` = Binary types\n",
    "- `NoneType` = none type\n",
    "\n",
    "All of these guys. Some of them you won't ever use in a Bioinfo pipeline so don't bother learning them all unless you are into designing tools and stuff.\n",
    "\n",
    "So far this has been a fairly comprehensive crash course in defining variables, what data types exist, and a quick exposure to lists. The other notebooks will cover more topics."
   ]
  }
 ],
 "metadata": {
  "kernelspec": {
   "display_name": "Python 3 (ipykernel)",
   "language": "python",
   "name": "python3"
  },
  "language_info": {
   "codemirror_mode": {
    "name": "ipython",
    "version": 3
   },
   "file_extension": ".py",
   "mimetype": "text/x-python",
   "name": "python",
   "nbconvert_exporter": "python",
   "pygments_lexer": "ipython3",
   "version": "3.13.1"
  }
 },
 "nbformat": 4,
 "nbformat_minor": 5
}
