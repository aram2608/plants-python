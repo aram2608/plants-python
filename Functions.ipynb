{
 "cells": [
  {
   "cell_type": "markdown",
   "id": "4aedf0ab-8ca1-427f-afb7-c3e90ca1dfa2",
   "metadata": {},
   "source": [
    "# Practicing Functions"
   ]
  },
  {
   "cell_type": "code",
   "execution_count": 1,
   "id": "2f7957c5-63e6-4317-ab00-a6a1057da084",
   "metadata": {},
   "outputs": [
    {
     "name": "stdout",
     "output_type": "stream",
     "text": [
      "Hello world!\n"
     ]
    }
   ],
   "source": [
    "# Print function\n",
    "print(\"Hello world!\")"
   ]
  },
  {
   "cell_type": "code",
   "execution_count": 2,
   "id": "744422f1-83d1-485d-b05b-204583d171cb",
   "metadata": {},
   "outputs": [
    {
     "name": "stdout",
     "output_type": "stream",
     "text": [
      "My name is | Jimbo | and I am | 20 | years old\n"
     ]
    }
   ],
   "source": [
    "# Interesting way to handle print()\n",
    "age = 20\n",
    "name = \"Jimbo\"\n",
    "print(\"My name is\", name, \"and I am\", age, \"years old\", sep=\" | \" )\n",
    "# This changes the separator to be a pipe |"
   ]
  },
  {
   "cell_type": "code",
   "execution_count": 3,
   "id": "3dd86d8c-c4ce-41ee-84fc-01976333d675",
   "metadata": {},
   "outputs": [
    {
     "name": "stdout",
     "output_type": "stream",
     "text": [
      "My name is Jimbo and I am 20 years old\n"
     ]
    }
   ],
   "source": [
    "print(\"My name is\", name, \"and I am\", age, \"years old\")"
   ]
  },
  {
   "cell_type": "code",
   "execution_count": 4,
   "id": "fc951633-c36a-4919-aa83-ac7ea3a57861",
   "metadata": {},
   "outputs": [
    {
     "name": "stdout",
     "output_type": "stream",
     "text": [
      "My name is\tJimbo\tand I am\t20\tyears old\n"
     ]
    }
   ],
   "source": [
    "print(\"My name is\", name, \"and I am\", age, \"years old\", sep=\"\\t\")"
   ]
  },
  {
   "cell_type": "code",
   "execution_count": 5,
   "id": "9b329af3-c24b-421b-a2b9-734e0db2539a",
   "metadata": {},
   "outputs": [
    {
     "name": "stdout",
     "output_type": "stream",
     "text": [
      "hello world | My name Jimbo\n"
     ]
    }
   ],
   "source": [
    "print(\"hello world\", end = \" | \") # changes the baked in \\n behavior that is typical to print()\n",
    "print(\"My name\", name)"
   ]
  },
  {
   "cell_type": "code",
   "execution_count": 6,
   "id": "aad33d7d-cbe9-44f4-8f0f-f8fdd40e4be7",
   "metadata": {},
   "outputs": [
    {
     "name": "stdout",
     "output_type": "stream",
     "text": [
      "Help on class str in module builtins:\n",
      "\n",
      "class str(object)\n",
      " |  str(object='') -> str\n",
      " |  str(bytes_or_buffer[, encoding[, errors]]) -> str\n",
      " |\n",
      " |  Create a new string object from the given object. If encoding or\n",
      " |  errors is specified, then the object must expose a data buffer\n",
      " |  that will be decoded using the given encoding and error handler.\n",
      " |  Otherwise, returns the result of object.__str__() (if defined)\n",
      " |  or repr(object).\n",
      " |  encoding defaults to 'utf-8'.\n",
      " |  errors defaults to 'strict'.\n",
      " |\n",
      " |  Methods defined here:\n",
      " |\n",
      " |  __add__(self, value, /)\n",
      " |      Return self+value.\n",
      " |\n",
      " |  __contains__(self, key, /)\n",
      " |      Return bool(key in self).\n",
      " |\n",
      " |  __eq__(self, value, /)\n",
      " |      Return self==value.\n",
      " |\n",
      " |  __format__(self, format_spec, /)\n",
      " |      Return a formatted version of the string as described by format_spec.\n",
      " |\n",
      " |  __ge__(self, value, /)\n",
      " |      Return self>=value.\n",
      " |\n",
      " |  __getitem__(self, key, /)\n",
      " |      Return self[key].\n",
      " |\n",
      " |  __getnewargs__(self, /)\n",
      " |\n",
      " |  __gt__(self, value, /)\n",
      " |      Return self>value.\n",
      " |\n",
      " |  __hash__(self, /)\n",
      " |      Return hash(self).\n",
      " |\n",
      " |  __iter__(self, /)\n",
      " |      Implement iter(self).\n",
      " |\n",
      " |  __le__(self, value, /)\n",
      " |      Return self<=value.\n",
      " |\n",
      " |  __len__(self, /)\n",
      " |      Return len(self).\n",
      " |\n",
      " |  __lt__(self, value, /)\n",
      " |      Return self<value.\n",
      " |\n",
      " |  __mod__(self, value, /)\n",
      " |      Return self%value.\n",
      " |\n",
      " |  __mul__(self, value, /)\n",
      " |      Return self*value.\n",
      " |\n",
      " |  __ne__(self, value, /)\n",
      " |      Return self!=value.\n",
      " |\n",
      " |  __repr__(self, /)\n",
      " |      Return repr(self).\n",
      " |\n",
      " |  __rmod__(self, value, /)\n",
      " |      Return value%self.\n",
      " |\n",
      " |  __rmul__(self, value, /)\n",
      " |      Return value*self.\n",
      " |\n",
      " |  __sizeof__(self, /)\n",
      " |      Return the size of the string in memory, in bytes.\n",
      " |\n",
      " |  __str__(self, /)\n",
      " |      Return str(self).\n",
      " |\n",
      " |  capitalize(self, /)\n",
      " |      Return a capitalized version of the string.\n",
      " |\n",
      " |      More specifically, make the first character have upper case and the rest lower\n",
      " |      case.\n",
      " |\n",
      " |  casefold(self, /)\n",
      " |      Return a version of the string suitable for caseless comparisons.\n",
      " |\n",
      " |  center(self, width, fillchar=' ', /)\n",
      " |      Return a centered string of length width.\n",
      " |\n",
      " |      Padding is done using the specified fill character (default is a space).\n",
      " |\n",
      " |  count(self, sub[, start[, end]], /)\n",
      " |      Return the number of non-overlapping occurrences of substring sub in string S[start:end].\n",
      " |\n",
      " |      Optional arguments start and end are interpreted as in slice notation.\n",
      " |\n",
      " |  encode(self, /, encoding='utf-8', errors='strict')\n",
      " |      Encode the string using the codec registered for encoding.\n",
      " |\n",
      " |      encoding\n",
      " |        The encoding in which to encode the string.\n",
      " |      errors\n",
      " |        The error handling scheme to use for encoding errors.\n",
      " |        The default is 'strict' meaning that encoding errors raise a\n",
      " |        UnicodeEncodeError.  Other possible values are 'ignore', 'replace' and\n",
      " |        'xmlcharrefreplace' as well as any other name registered with\n",
      " |        codecs.register_error that can handle UnicodeEncodeErrors.\n",
      " |\n",
      " |  endswith(self, suffix[, start[, end]], /)\n",
      " |      Return True if the string ends with the specified suffix, False otherwise.\n",
      " |\n",
      " |      suffix\n",
      " |        A string or a tuple of strings to try.\n",
      " |      start\n",
      " |        Optional start position. Default: start of the string.\n",
      " |      end\n",
      " |        Optional stop position. Default: end of the string.\n",
      " |\n",
      " |  expandtabs(self, /, tabsize=8)\n",
      " |      Return a copy where all tab characters are expanded using spaces.\n",
      " |\n",
      " |      If tabsize is not given, a tab size of 8 characters is assumed.\n",
      " |\n",
      " |  find(self, sub[, start[, end]], /)\n",
      " |      Return the lowest index in S where substring sub is found, such that sub is contained within S[start:end].\n",
      " |\n",
      " |      Optional arguments start and end are interpreted as in slice notation.\n",
      " |      Return -1 on failure.\n",
      " |\n",
      " |  format(self, /, *args, **kwargs)\n",
      " |      Return a formatted version of the string, using substitutions from args and kwargs.\n",
      " |      The substitutions are identified by braces ('{' and '}').\n",
      " |\n",
      " |  format_map(self, mapping, /)\n",
      " |      Return a formatted version of the string, using substitutions from mapping.\n",
      " |      The substitutions are identified by braces ('{' and '}').\n",
      " |\n",
      " |  index(self, sub[, start[, end]], /)\n",
      " |      Return the lowest index in S where substring sub is found, such that sub is contained within S[start:end].\n",
      " |\n",
      " |      Optional arguments start and end are interpreted as in slice notation.\n",
      " |      Raises ValueError when the substring is not found.\n",
      " |\n",
      " |  isalnum(self, /)\n",
      " |      Return True if the string is an alpha-numeric string, False otherwise.\n",
      " |\n",
      " |      A string is alpha-numeric if all characters in the string are alpha-numeric and\n",
      " |      there is at least one character in the string.\n",
      " |\n",
      " |  isalpha(self, /)\n",
      " |      Return True if the string is an alphabetic string, False otherwise.\n",
      " |\n",
      " |      A string is alphabetic if all characters in the string are alphabetic and there\n",
      " |      is at least one character in the string.\n",
      " |\n",
      " |  isascii(self, /)\n",
      " |      Return True if all characters in the string are ASCII, False otherwise.\n",
      " |\n",
      " |      ASCII characters have code points in the range U+0000-U+007F.\n",
      " |      Empty string is ASCII too.\n",
      " |\n",
      " |  isdecimal(self, /)\n",
      " |      Return True if the string is a decimal string, False otherwise.\n",
      " |\n",
      " |      A string is a decimal string if all characters in the string are decimal and\n",
      " |      there is at least one character in the string.\n",
      " |\n",
      " |  isdigit(self, /)\n",
      " |      Return True if the string is a digit string, False otherwise.\n",
      " |\n",
      " |      A string is a digit string if all characters in the string are digits and there\n",
      " |      is at least one character in the string.\n",
      " |\n",
      " |  isidentifier(self, /)\n",
      " |      Return True if the string is a valid Python identifier, False otherwise.\n",
      " |\n",
      " |      Call keyword.iskeyword(s) to test whether string s is a reserved identifier,\n",
      " |      such as \"def\" or \"class\".\n",
      " |\n",
      " |  islower(self, /)\n",
      " |      Return True if the string is a lowercase string, False otherwise.\n",
      " |\n",
      " |      A string is lowercase if all cased characters in the string are lowercase and\n",
      " |      there is at least one cased character in the string.\n",
      " |\n",
      " |  isnumeric(self, /)\n",
      " |      Return True if the string is a numeric string, False otherwise.\n",
      " |\n",
      " |      A string is numeric if all characters in the string are numeric and there is at\n",
      " |      least one character in the string.\n",
      " |\n",
      " |  isprintable(self, /)\n",
      " |      Return True if the string is printable, False otherwise.\n",
      " |\n",
      " |      A string is printable if all of its characters are considered printable in\n",
      " |      repr() or if it is empty.\n",
      " |\n",
      " |  isspace(self, /)\n",
      " |      Return True if the string is a whitespace string, False otherwise.\n",
      " |\n",
      " |      A string is whitespace if all characters in the string are whitespace and there\n",
      " |      is at least one character in the string.\n",
      " |\n",
      " |  istitle(self, /)\n",
      " |      Return True if the string is a title-cased string, False otherwise.\n",
      " |\n",
      " |      In a title-cased string, upper- and title-case characters may only\n",
      " |      follow uncased characters and lowercase characters only cased ones.\n",
      " |\n",
      " |  isupper(self, /)\n",
      " |      Return True if the string is an uppercase string, False otherwise.\n",
      " |\n",
      " |      A string is uppercase if all cased characters in the string are uppercase and\n",
      " |      there is at least one cased character in the string.\n",
      " |\n",
      " |  join(self, iterable, /)\n",
      " |      Concatenate any number of strings.\n",
      " |\n",
      " |      The string whose method is called is inserted in between each given string.\n",
      " |      The result is returned as a new string.\n",
      " |\n",
      " |      Example: '.'.join(['ab', 'pq', 'rs']) -> 'ab.pq.rs'\n",
      " |\n",
      " |  ljust(self, width, fillchar=' ', /)\n",
      " |      Return a left-justified string of length width.\n",
      " |\n",
      " |      Padding is done using the specified fill character (default is a space).\n",
      " |\n",
      " |  lower(self, /)\n",
      " |      Return a copy of the string converted to lowercase.\n",
      " |\n",
      " |  lstrip(self, chars=None, /)\n",
      " |      Return a copy of the string with leading whitespace removed.\n",
      " |\n",
      " |      If chars is given and not None, remove characters in chars instead.\n",
      " |\n",
      " |  partition(self, sep, /)\n",
      " |      Partition the string into three parts using the given separator.\n",
      " |\n",
      " |      This will search for the separator in the string.  If the separator is found,\n",
      " |      returns a 3-tuple containing the part before the separator, the separator\n",
      " |      itself, and the part after it.\n",
      " |\n",
      " |      If the separator is not found, returns a 3-tuple containing the original string\n",
      " |      and two empty strings.\n",
      " |\n",
      " |  removeprefix(self, prefix, /)\n",
      " |      Return a str with the given prefix string removed if present.\n",
      " |\n",
      " |      If the string starts with the prefix string, return string[len(prefix):].\n",
      " |      Otherwise, return a copy of the original string.\n",
      " |\n",
      " |  removesuffix(self, suffix, /)\n",
      " |      Return a str with the given suffix string removed if present.\n",
      " |\n",
      " |      If the string ends with the suffix string and that suffix is not empty,\n",
      " |      return string[:-len(suffix)]. Otherwise, return a copy of the original\n",
      " |      string.\n",
      " |\n",
      " |  replace(self, old, new, /, count=-1)\n",
      " |      Return a copy with all occurrences of substring old replaced by new.\n",
      " |\n",
      " |        count\n",
      " |          Maximum number of occurrences to replace.\n",
      " |          -1 (the default value) means replace all occurrences.\n",
      " |\n",
      " |      If the optional argument count is given, only the first count occurrences are\n",
      " |      replaced.\n",
      " |\n",
      " |  rfind(self, sub[, start[, end]], /)\n",
      " |      Return the highest index in S where substring sub is found, such that sub is contained within S[start:end].\n",
      " |\n",
      " |      Optional arguments start and end are interpreted as in slice notation.\n",
      " |      Return -1 on failure.\n",
      " |\n",
      " |  rindex(self, sub[, start[, end]], /)\n",
      " |      Return the highest index in S where substring sub is found, such that sub is contained within S[start:end].\n",
      " |\n",
      " |      Optional arguments start and end are interpreted as in slice notation.\n",
      " |      Raises ValueError when the substring is not found.\n",
      " |\n",
      " |  rjust(self, width, fillchar=' ', /)\n",
      " |      Return a right-justified string of length width.\n",
      " |\n",
      " |      Padding is done using the specified fill character (default is a space).\n",
      " |\n",
      " |  rpartition(self, sep, /)\n",
      " |      Partition the string into three parts using the given separator.\n",
      " |\n",
      " |      This will search for the separator in the string, starting at the end. If\n",
      " |      the separator is found, returns a 3-tuple containing the part before the\n",
      " |      separator, the separator itself, and the part after it.\n",
      " |\n",
      " |      If the separator is not found, returns a 3-tuple containing two empty strings\n",
      " |      and the original string.\n",
      " |\n",
      " |  rsplit(self, /, sep=None, maxsplit=-1)\n",
      " |      Return a list of the substrings in the string, using sep as the separator string.\n",
      " |\n",
      " |        sep\n",
      " |          The separator used to split the string.\n",
      " |\n",
      " |          When set to None (the default value), will split on any whitespace\n",
      " |          character (including \\n \\r \\t \\f and spaces) and will discard\n",
      " |          empty strings from the result.\n",
      " |        maxsplit\n",
      " |          Maximum number of splits.\n",
      " |          -1 (the default value) means no limit.\n",
      " |\n",
      " |      Splitting starts at the end of the string and works to the front.\n",
      " |\n",
      " |  rstrip(self, chars=None, /)\n",
      " |      Return a copy of the string with trailing whitespace removed.\n",
      " |\n",
      " |      If chars is given and not None, remove characters in chars instead.\n",
      " |\n",
      " |  split(self, /, sep=None, maxsplit=-1)\n",
      " |      Return a list of the substrings in the string, using sep as the separator string.\n",
      " |\n",
      " |        sep\n",
      " |          The separator used to split the string.\n",
      " |\n",
      " |          When set to None (the default value), will split on any whitespace\n",
      " |          character (including \\n \\r \\t \\f and spaces) and will discard\n",
      " |          empty strings from the result.\n",
      " |        maxsplit\n",
      " |          Maximum number of splits.\n",
      " |          -1 (the default value) means no limit.\n",
      " |\n",
      " |      Splitting starts at the front of the string and works to the end.\n",
      " |\n",
      " |      Note, str.split() is mainly useful for data that has been intentionally\n",
      " |      delimited.  With natural text that includes punctuation, consider using\n",
      " |      the regular expression module.\n",
      " |\n",
      " |  splitlines(self, /, keepends=False)\n",
      " |      Return a list of the lines in the string, breaking at line boundaries.\n",
      " |\n",
      " |      Line breaks are not included in the resulting list unless keepends is given and\n",
      " |      true.\n",
      " |\n",
      " |  startswith(self, prefix[, start[, end]], /)\n",
      " |      Return True if the string starts with the specified prefix, False otherwise.\n",
      " |\n",
      " |      prefix\n",
      " |        A string or a tuple of strings to try.\n",
      " |      start\n",
      " |        Optional start position. Default: start of the string.\n",
      " |      end\n",
      " |        Optional stop position. Default: end of the string.\n",
      " |\n",
      " |  strip(self, chars=None, /)\n",
      " |      Return a copy of the string with leading and trailing whitespace removed.\n",
      " |\n",
      " |      If chars is given and not None, remove characters in chars instead.\n",
      " |\n",
      " |  swapcase(self, /)\n",
      " |      Convert uppercase characters to lowercase and lowercase characters to uppercase.\n",
      " |\n",
      " |  title(self, /)\n",
      " |      Return a version of the string where each word is titlecased.\n",
      " |\n",
      " |      More specifically, words start with uppercased characters and all remaining\n",
      " |      cased characters have lower case.\n",
      " |\n",
      " |  translate(self, table, /)\n",
      " |      Replace each character in the string using the given translation table.\n",
      " |\n",
      " |        table\n",
      " |          Translation table, which must be a mapping of Unicode ordinals to\n",
      " |          Unicode ordinals, strings, or None.\n",
      " |\n",
      " |      The table must implement lookup/indexing via __getitem__, for instance a\n",
      " |      dictionary or list.  If this operation raises LookupError, the character is\n",
      " |      left untouched.  Characters mapped to None are deleted.\n",
      " |\n",
      " |  upper(self, /)\n",
      " |      Return a copy of the string converted to uppercase.\n",
      " |\n",
      " |  zfill(self, width, /)\n",
      " |      Pad a numeric string with zeros on the left, to fill a field of the given width.\n",
      " |\n",
      " |      The string is never truncated.\n",
      " |\n",
      " |  ----------------------------------------------------------------------\n",
      " |  Static methods defined here:\n",
      " |\n",
      " |  __new__(*args, **kwargs)\n",
      " |      Create and return a new object.  See help(type) for accurate signature.\n",
      " |\n",
      " |  maketrans(x, y=<unrepresentable>, z=<unrepresentable>, /)\n",
      " |      Return a translation table usable for str.translate().\n",
      " |\n",
      " |      If there is only one argument, it must be a dictionary mapping Unicode\n",
      " |      ordinals (integers) or characters to Unicode ordinals, strings or None.\n",
      " |      Character keys will be then converted to ordinals.\n",
      " |      If there are two arguments, they must be strings of equal length, and\n",
      " |      in the resulting dictionary, each character in x will be mapped to the\n",
      " |      character at the same position in y. If there is a third argument, it\n",
      " |      must be a string, whose characters will be mapped to None in the result.\n",
      "\n"
     ]
    }
   ],
   "source": [
    "# Help function\n",
    "help(str) # allows us to print out the documentation of a function, read doc strings"
   ]
  },
  {
   "cell_type": "code",
   "execution_count": 7,
   "id": "02b7390b-6231-486e-ad8d-27f6116f6e07",
   "metadata": {},
   "outputs": [],
   "source": [
    "# Work with our own junk too\n",
    "def test_func(a, b):\n",
    "    \"\"\"\n",
    "    a: value 1\n",
    "    b: value 2\n",
    "\n",
    "    returns: int\n",
    "    \"\"\"\n",
    "    return a + b"
   ]
  },
  {
   "cell_type": "code",
   "execution_count": 8,
   "id": "fd4b1357-3b53-4f76-8413-2b338eeed2fd",
   "metadata": {},
   "outputs": [
    {
     "name": "stdout",
     "output_type": "stream",
     "text": [
      "Help on function test_func in module __main__:\n",
      "\n",
      "test_func(a, b)\n",
      "    a: value 1\n",
      "    b: value 2\n",
      "\n",
      "    returns: int\n",
      "\n"
     ]
    }
   ],
   "source": [
    "help(test_func)"
   ]
  },
  {
   "cell_type": "markdown",
   "id": "df3e73ae-80a7-40bd-a733-3e2bd79b3391",
   "metadata": {},
   "source": [
    "What an amazing function right? help() is an absolute life saver."
   ]
  },
  {
   "cell_type": "code",
   "execution_count": 9,
   "id": "10f6ae56-85c6-416e-afdd-6b4aae1561c8",
   "metadata": {},
   "outputs": [
    {
     "name": "stdout",
     "output_type": "stream",
     "text": [
      "[0, 1, 2, 3, 4, 5, 6, 7, 8, 9]\n"
     ]
    }
   ],
   "source": [
    "# range()\n",
    "rng = range(10)\n",
    "\n",
    "print(list(rng))"
   ]
  },
  {
   "cell_type": "markdown",
   "id": "67883c24-0749-40b2-92f0-76b2a1a13878",
   "metadata": {},
   "source": [
    "Range generates a range of values, it can have a start, step, and stop\n",
    "\n",
    "In the previous example, our range is 10, so Python goes up to 10 but does not include it"
   ]
  },
  {
   "cell_type": "code",
   "execution_count": 10,
   "id": "63ac48f8-17b7-460d-aa95-254e7725688d",
   "metadata": {},
   "outputs": [
    {
     "name": "stdout",
     "output_type": "stream",
     "text": [
      "[3, 5, 7, 9]\n"
     ]
    }
   ],
   "source": [
    "rng = range(3, 10, 2)\n",
    "\n",
    "print(list(rng))"
   ]
  },
  {
   "cell_type": "markdown",
   "id": "51db1fd5-1842-4441-bcd1-bb0ba2e9af06",
   "metadata": {},
   "source": [
    "The syntax goes as the following,\n",
    "\n",
    "```\n",
    "range(start value, stop value, step value)\n",
    "```\n",
    "\n",
    "The first two are straight forward, the step value is what the range function uses to count up by. In the previous example it counted by 2."
   ]
  },
  {
   "cell_type": "code",
   "execution_count": 11,
   "id": "096663f2-4421-48db-938a-c8e16a01db0b",
   "metadata": {},
   "outputs": [
    {
     "name": "stdout",
     "output_type": "stream",
     "text": [
      "[10, 8, 6, 4, 2, 0, -2, -4, -6, -8]\n"
     ]
    }
   ],
   "source": [
    "rng = range(10, -10, -2)\n",
    "print(list(rng))"
   ]
  },
  {
   "cell_type": "code",
   "execution_count": 12,
   "id": "8ceb244f-9865-4d70-84fc-8f10e398852d",
   "metadata": {},
   "outputs": [
    {
     "name": "stdout",
     "output_type": "stream",
     "text": [
      "[5, 5, 5, 3]\n"
     ]
    }
   ],
   "source": [
    "# map()\n",
    "string = [\"hello\", \"world\", \"apple\", \"red\"]\n",
    "lengths = map(len, string)\n",
    "print(list(lengths))"
   ]
  },
  {
   "cell_type": "markdown",
   "id": "accedc54-11df-44ea-a3b1-8cc3e10e83c7",
   "metadata": {},
   "source": [
    "Map allows us to use any predefined function on an interable object. What is an iterable object? Anything you can iterate through, so a list, set, tuple, etc..\n",
    "\n",
    "Incredibly useful for keeping code nice and short when you wanna apply a function to an iterable object without breaking out a convulated for loop."
   ]
  },
  {
   "cell_type": "code",
   "execution_count": 13,
   "id": "38b3fc58-8a15-4aae-8089-4504ef58a28a",
   "metadata": {},
   "outputs": [
    {
     "name": "stdout",
     "output_type": "stream",
     "text": [
      "[5, 5, 5, 3]\n"
     ]
    }
   ],
   "source": [
    "lengths = []\n",
    "for item in string:\n",
    "    lengths.append(len(item))\n",
    "print(lengths)"
   ]
  },
  {
   "cell_type": "code",
   "execution_count": 14,
   "id": "cf32b274-07ee-4d66-a53c-5ae5ee0a3cfe",
   "metadata": {},
   "outputs": [
    {
     "name": "stdout",
     "output_type": "stream",
     "text": [
      "['hellos', 'worlds', 'apples', 'reds']\n"
     ]
    }
   ],
   "source": [
    "lengths = map(lambda x: x + \"s\", string)\n",
    "print(list(lengths))"
   ]
  },
  {
   "cell_type": "markdown",
   "id": "a5408e53-316a-4a83-b432-80cf3d67f7a9",
   "metadata": {},
   "source": [
    "Lambda is an anonymous function, ie not defined anywhere other the line of code it was written in, its useful for little one liners, but if you prefer you can create your own defined function and use that instead."
   ]
  },
  {
   "cell_type": "code",
   "execution_count": 15,
   "id": "baafe7c3-7a4d-423d-bfde-b91a52bde9b7",
   "metadata": {},
   "outputs": [
    {
     "name": "stdout",
     "output_type": "stream",
     "text": [
      "['hellos', 'worlds', 'apples', 'reds']\n"
     ]
    }
   ],
   "source": [
    "def add_s(string):\n",
    "    return string + \"s\"\n",
    "\n",
    "lengths = map(add_s, string)\n",
    "print(list(lengths))"
   ]
  },
  {
   "cell_type": "code",
   "execution_count": 16,
   "id": "90de36fc-47d9-4070-a00b-0ec676ad5a9e",
   "metadata": {},
   "outputs": [
    {
     "name": "stdout",
     "output_type": "stream",
     "text": [
      "['hello', 'world', 'apple']\n"
     ]
    }
   ],
   "source": [
    "# filter function\n",
    "def longer_than_4(string):\n",
    "    return len(string) > 4\n",
    "\n",
    "filtered = filter(longer_than_4, string)\n",
    "filtered = list(filtered)\n",
    "print(filtered)"
   ]
  },
  {
   "cell_type": "markdown",
   "id": "0e5f550c-4ba5-4270-85fb-06bf0c41d824",
   "metadata": {},
   "source": [
    "The filter() function takes any filter function and applies it to an iterable object, if the object passes the filter function it is returned.\n",
    "\n",
    "Super duper useful, the filtered stuff can be saved and reused later.\n",
    "\n",
    "Can be used with lambda functions as well."
   ]
  },
  {
   "cell_type": "code",
   "execution_count": 17,
   "id": "8e791ff4-2697-4419-bdca-7ecb33d18d8b",
   "metadata": {},
   "outputs": [
    {
     "name": "stdout",
     "output_type": "stream",
     "text": [
      "15\n",
      "25\n"
     ]
    }
   ],
   "source": [
    "# sum adds together values of an iterable object\n",
    "numbers = {1,2,3,4,5}\n",
    "print(sum(numbers))\n",
    "\n",
    "print(sum(numbers, start=10)) # we can define a starting point for our sum"
   ]
  },
  {
   "cell_type": "markdown",
   "id": "0fdee1e9-da00-4dbe-a1e6-8c444dcfff62",
   "metadata": {},
   "source": [
    "The difference between the iterable types in Python is a bit weird, lists can store pretty much anything, ints, strings, etc.. A set can do the same with the exception that _only one_ occurence of each item is allowed.\n",
    "\n",
    "For example...\n",
    "```\n",
    "my_set = {1,1,1}\n",
    "```\n",
    "\n",
    "Is not okay, not allowed.\n",
    "\n",
    "With that said a very useful function to remove redundant items is set()."
   ]
  },
  {
   "cell_type": "code",
   "execution_count": 18,
   "id": "10e84c8b-cba0-4663-92df-d9b5e68e1ba5",
   "metadata": {},
   "outputs": [
    {
     "name": "stdout",
     "output_type": "stream",
     "text": [
      "['thing', 'thing', 'thing2']\n",
      "{'thing', 'thing2'}\n"
     ]
    }
   ],
   "source": [
    "stuff = ['thing', 'thing', 'thing2']\n",
    "print(stuff)\n",
    "stuff = set(stuff)\n",
    "print(stuff)"
   ]
  },
  {
   "cell_type": "markdown",
   "id": "75be4eab-df22-4893-98c5-0c4dfdcf8f8f",
   "metadata": {},
   "source": [
    "See how the brackets changed to curly ones? That is an important distinction, not to be confused with dictionaries."
   ]
  },
  {
   "cell_type": "code",
   "execution_count": 19,
   "id": "0ed2fc8a-4d0b-42ce-acf7-9d88f81fd6d8",
   "metadata": {},
   "outputs": [
    {
     "name": "stdout",
     "output_type": "stream",
     "text": [
      "['apple', 'hello', 'red', 'world']\n",
      "['world', 'red', 'hello', 'apple']\n"
     ]
    }
   ],
   "source": [
    "# sorted(), sorts an iterable\n",
    "sorted_string = sorted(string) # orders in alphabetical\n",
    "print(sorted_string)\n",
    "\n",
    "sorted_string = sorted(string, reverse=True) # orders in reverse alphabetical\n",
    "print(sorted_string)"
   ]
  },
  {
   "cell_type": "code",
   "execution_count": 20,
   "id": "9ef7bc90-357e-4126-9b8f-b1c7afc4e858",
   "metadata": {},
   "outputs": [
    {
     "name": "stdout",
     "output_type": "stream",
     "text": [
      "[{'name': 'Charlie', 'age': 20}, {'name': 'Alice', 'age': 25}, {'name': 'Bob', 'age': 30}]\n"
     ]
    }
   ],
   "source": [
    "people = [\n",
    "    {\n",
    "        \"name\" : \"Alice\",\n",
    "        \"age\" : 25,\n",
    "    },\n",
    "    {\n",
    "        \"name\" : \"Bob\",\n",
    "        \"age\" : 30,\n",
    "    },\n",
    "    {\n",
    "        \"name\" : \"Charlie\",\n",
    "        \"age\" : 20,\n",
    "    },\n",
    "]\n",
    "\n",
    "sorted_people = sorted(people, key=lambda person: person[\"age\"])\n",
    "print(sorted_people)"
   ]
  },
  {
   "cell_type": "markdown",
   "id": "a8b75dd2-d353-46b9-9b2d-e885f4fc19f7",
   "metadata": {},
   "source": [
    "Using the sorted() function, we can create a key for sorting. In this case we use a lambda function to take one argument, in this case person, and for every person we access their \"age\". We then sort the entire list of dictionaries using their age. reverse = True can also be used to reverse the order."
   ]
  },
  {
   "cell_type": "code",
   "execution_count": 21,
   "id": "bd587088-99db-4fc3-8999-9d777386c8e2",
   "metadata": {},
   "outputs": [
    {
     "name": "stdout",
     "output_type": "stream",
     "text": [
      "1. Write report\n",
      "2. Attend meeting\n",
      "3. Review code\n",
      "4. Submit timesheet\n",
      "\n",
      "\n",
      "1. Write report\n",
      "2. Attend meeting\n",
      "3. Review code\n",
      "4. Submit timesheet\n",
      "\n",
      "\n",
      "[(0, 'Write report'), (1, 'Attend meeting'), (2, 'Review code'), (3, 'Submit timesheet')]\n"
     ]
    }
   ],
   "source": [
    "# Enumerate\n",
    "tasks = [\"Write report\", \"Attend meeting\", \"Review code\", \"Submit timesheet\"]\n",
    "\n",
    "for index in range(len(tasks)):\n",
    "    task = tasks[index]\n",
    "    print(f\"{index + 1}. {task}\")\n",
    "\n",
    "print(f\"\\n\")\n",
    "\n",
    "for index, task in enumerate(tasks):\n",
    "    print(f\"{index + 1}. {task}\")\n",
    "\n",
    "print(f\"\\n\")\n",
    "\n",
    "print(list(enumerate(tasks)))"
   ]
  },
  {
   "cell_type": "markdown",
   "id": "1e71edb4-631a-4caf-85c8-f411ad88e63b",
   "metadata": {},
   "source": [
    "Enumerate returns a tuple with the first value being the index, and the second value being whatever the value actually is."
   ]
  },
  {
   "cell_type": "code",
   "execution_count": 22,
   "id": "ace08af3-973c-4ec3-8479-94df8dc581c3",
   "metadata": {},
   "outputs": [
    {
     "name": "stdout",
     "output_type": "stream",
     "text": [
      "Alice is 30 years old\n",
      "Bob is 25 years old\n",
      "\n",
      "\n",
      "Alice is 30 years old.\n",
      "Bob is 25 years old.\n",
      "\n",
      "\n",
      "[('Alice', 30), ('Bob', 25)] Notice how these are all tuples?\n",
      "\n",
      "\n",
      "Alice is 30 years old and is Female \n",
      "See how this can handle multiple list lengths?\n",
      "Bob is 25 years old and is Male \n",
      "See how this can handle multiple list lengths?\n"
     ]
    }
   ],
   "source": [
    "# zip\n",
    "\n",
    "names = [\"Alice\", \"Bob\", \"Jim\"]\n",
    "ages = [30, 25]\n",
    "genders = [\"Female\", \"Male\", \"Male\"]\n",
    "\n",
    "# we have to use minimum length of the names and ages list, otherwise we will get an index out of bounds exception\n",
    "for idx in range(min(len(names), len(ages))):\n",
    "    name = names[idx]\n",
    "    age = ages[idx]\n",
    "    print(f\"{name} is {age} years old\")\n",
    "\n",
    "print(f\"\\n\")\n",
    "\n",
    "# zip combines iterable objects and automatically handles indexing\n",
    "combined = list(zip(names, ages))\n",
    "\n",
    "for name, age in combined:\n",
    "    print(f\"{name} is {age} years old.\")\n",
    "\n",
    "print(f\"\\n\")\n",
    "\n",
    "print(combined, \"Notice how these are all tuples?\")\n",
    "\n",
    "print(f\"\\n\")\n",
    "\n",
    "combined = list(zip(names, ages, genders))\n",
    "\n",
    "for name, age, gender in combined:\n",
    "    print(f\"{name} is {age} years old and is {gender}\", f\"\\nSee how this can handle multiple list lengths?\")"
   ]
  },
  {
   "cell_type": "code",
   "execution_count": 23,
   "id": "cd36f082-7e85-4bc5-8d6b-218c2b555f76",
   "metadata": {},
   "outputs": [
    {
     "data": {
      "text/plain": [
       "<function TextIOWrapper.close()>"
      ]
     },
     "execution_count": 23,
     "metadata": {},
     "output_type": "execute_result"
    }
   ],
   "source": [
    "# open(), is used to open a file\n",
    "\n",
    "file = open(\"test.txt\", \"w\") # theres a bunch of different modes, theres w, write. theres r,read. these are the two most common\n",
    "# when using \"w\" be very careful, as it will override any file with the same name\n",
    "\n",
    "file.write(\"hellow world\\nmy name is Bob\")\n",
    "file.close # very important to always close files to prevent any memory leaks"
   ]
  },
  {
   "cell_type": "code",
   "execution_count": 24,
   "id": "f57c19d7-6357-40ee-bf94-70d37d290263",
   "metadata": {},
   "outputs": [],
   "source": [
    "# a safer way to deal with open is like this\n",
    "with open(\"test.txt\", \"w\") as file:\n",
    "    file.write(\"Hello world\\nmy name is Timmy\")"
   ]
  },
  {
   "cell_type": "markdown",
   "id": "a8ef8c35-6ccf-43b5-96f7-f19a836c8565",
   "metadata": {},
   "source": [
    "See how no output was pushed to the terminal? This is because we used something called a context manager, ie the with syntax.\n",
    "\n",
    "This ensures files are opened and closed properly."
   ]
  },
  {
   "cell_type": "code",
   "execution_count": 25,
   "id": "2cd49ef2-2c78-4385-94d2-7e29cd24443c",
   "metadata": {},
   "outputs": [
    {
     "name": "stdout",
     "output_type": "stream",
     "text": [
      "Hello world\n",
      "my name is Timmy\n"
     ]
    }
   ],
   "source": [
    "with open(\"test.txt\", \"r\") as file:\n",
    "    text = file.read()\n",
    "    print(text)"
   ]
  },
  {
   "cell_type": "code",
   "execution_count": 26,
   "id": "1356eb00-1357-4167-88da-ab770a916fe7",
   "metadata": {},
   "outputs": [
    {
     "name": "stdout",
     "output_type": "stream",
     "text": [
      "Hello world\n",
      "my name is Timmy\n",
      "Bing bong bing bong\n"
     ]
    }
   ],
   "source": [
    "# append adds to end of file rather than overriding\n",
    "with open(\"test.txt\", \"a\") as file:\n",
    "    file.write(f\"\\nBing bong bing bong\")\n",
    "\n",
    "with open(\"test.txt\", \"r\") as file:\n",
    "    text = file.read()\n",
    "    print(text)"
   ]
  }
 ],
 "metadata": {
  "kernelspec": {
   "display_name": "Python 3 (ipykernel)",
   "language": "python",
   "name": "python3"
  },
  "language_info": {
   "codemirror_mode": {
    "name": "ipython",
    "version": 3
   },
   "file_extension": ".py",
   "mimetype": "text/x-python",
   "name": "python",
   "nbconvert_exporter": "python",
   "pygments_lexer": "ipython3",
   "version": "3.13.1"
  }
 },
 "nbformat": 4,
 "nbformat_minor": 5
}
